{
 "cells": [
  {
   "cell_type": "code",
   "execution_count": 3,
   "id": "c88c71f5-0cba-4976-aec6-f97bf56cc5a2",
   "metadata": {},
   "outputs": [],
   "source": [
    "# accessing webcam\n",
    "\n",
    "import cv2\n",
    "\n",
    "capture = cv2.VideoCapture(0)\n",
    "while (True):\n",
    "    ret , frame = capture.read()\n",
    "    cv2.imshow('PIC',frame)\n",
    "    if cv2.waitKey(1) & 0xFF == ord('q'):\n",
    "        break\n",
    "        capture.release()     \n",
    "cv2.destroyAllWindows()"
   ]
  },
  {
   "cell_type": "code",
   "execution_count": 3,
   "id": "67aaa189-f769-4796-b7e0-e0000da51aef",
   "metadata": {},
   "outputs": [
    {
     "name": "stdout",
     "output_type": "stream",
     "text": [
      "video saved successfully\n"
     ]
    }
   ],
   "source": [
    "# capture videos \n",
    "import cv2\n",
    "\n",
    "cap = cv2.VideoCapture(0)\n",
    "\n",
    "if(cap.isOpened() == False):\n",
    "    print('camera not opened')\n",
    "frame_width = int(cap.get(3))\n",
    "frame_height = int(cap.get(4))\n",
    "\n",
    "video_code = cv2.VideoWriter_fourcc(*'XVID')\n",
    "video_output = cv2.VideoWriter('caputerd_video.MP4',video_code,30,(frame_width,frame_height))\n",
    "\n",
    "while (True):\n",
    "    ret , frame = cap.read()\n",
    "    if ret == True:\n",
    "        video_output.write(frame)\n",
    "        cv2.imshow('frame',frame)\n",
    "        if cv2.waitKey(5) & 0xFF == ord('q'):\n",
    "            break\n",
    "    else:\n",
    "        break\n",
    "        \n",
    "cap.release()     \n",
    "cv2.destroyAllWindows()\n",
    "print('video saved successfully')"
   ]
  },
  {
   "cell_type": "code",
   "execution_count": 1,
   "id": "e1fdc5ce-2970-412f-829b-2923b1b1e9a9",
   "metadata": {},
   "outputs": [],
   "source": [
    "# playing saved video\n",
    "\n",
    "import cv2\n",
    "\n",
    "cap = cv2.VideoCapture('caputerd_video.MP4')\n",
    "\n",
    "while (True):\n",
    "    ret , frame = cap.read()\n",
    "    cv2.imshow('frame',frame)\n",
    "    if cv2.waitKey(1) & 0xFF == ord('q'):\n",
    "        break\n",
    "        \n",
    "cap.release()     \n",
    "cv2.destroyAllWindows()"
   ]
  },
  {
   "cell_type": "code",
   "execution_count": null,
   "id": "12f58cb1-6767-4cb5-9fa2-e960950a0721",
   "metadata": {},
   "outputs": [],
   "source": []
  }
 ],
 "metadata": {
  "kernelspec": {
   "display_name": "Python 3 (ipykernel)",
   "language": "python",
   "name": "python3"
  },
  "language_info": {
   "codemirror_mode": {
    "name": "ipython",
    "version": 3
   },
   "file_extension": ".py",
   "mimetype": "text/x-python",
   "name": "python",
   "nbconvert_exporter": "python",
   "pygments_lexer": "ipython3",
   "version": "3.9.15"
  }
 },
 "nbformat": 4,
 "nbformat_minor": 5
}
