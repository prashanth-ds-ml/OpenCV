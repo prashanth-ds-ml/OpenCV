{
 "cells": [
  {
   "cell_type": "code",
   "execution_count": 1,
   "id": "91b49399-068c-4317-a473-fd0942260aa6",
   "metadata": {},
   "outputs": [
    {
     "data": {
      "text/plain": [
       "array([[[253, 255, 252],\n",
       "        [250, 254, 249],\n",
       "        [251, 255, 250],\n",
       "        ...,\n",
       "        [221, 196, 170],\n",
       "        [221, 197, 169],\n",
       "        [221, 197, 169]],\n",
       "\n",
       "       [[250, 254, 249],\n",
       "        [249, 253, 248],\n",
       "        [252, 255, 251],\n",
       "        ...,\n",
       "        [112,  82,  55],\n",
       "        [112,  82,  55],\n",
       "        [112,  82,  53]],\n",
       "\n",
       "       [[249, 252, 250],\n",
       "        [250, 253, 251],\n",
       "        [253, 255, 254],\n",
       "        ...,\n",
       "        [120,  80,  52],\n",
       "        [120,  80,  52],\n",
       "        [120,  80,  51]],\n",
       "\n",
       "       ...,\n",
       "\n",
       "       [[255, 255, 255],\n",
       "        [255, 255, 255],\n",
       "        [255, 255, 255],\n",
       "        ...,\n",
       "        [255, 255, 255],\n",
       "        [255, 255, 255],\n",
       "        [255, 255, 255]],\n",
       "\n",
       "       [[255, 255, 255],\n",
       "        [255, 255, 255],\n",
       "        [255, 255, 255],\n",
       "        ...,\n",
       "        [255, 255, 255],\n",
       "        [255, 255, 255],\n",
       "        [255, 255, 255]],\n",
       "\n",
       "       [[255, 255, 255],\n",
       "        [255, 255, 255],\n",
       "        [255, 255, 255],\n",
       "        ...,\n",
       "        [255, 255, 255],\n",
       "        [255, 255, 255],\n",
       "        [255, 255, 255]]], dtype=uint8)"
      ]
     },
     "execution_count": 1,
     "metadata": {},
     "output_type": "execute_result"
    }
   ],
   "source": [
    "# reading the image\n",
    "import cv2\n",
    "\n",
    "img_path = 'zoro.jpg'\n",
    "\n",
    "img = cv2.imread(img_path)\n",
    "\n",
    "img # reads in the form of numbers\n",
    "\n"
   ]
  },
  {
   "cell_type": "code",
   "execution_count": 4,
   "id": "7b325c36-4485-41b7-8814-3a84926cc787",
   "metadata": {},
   "outputs": [],
   "source": [
    "# display the image\n",
    "\n",
    "cv2.imshow('Zoro Vice-captian',img)\n",
    "cv2.waitKey(0) # displays the image and holds it for the given amount of time\n",
    "cv2.destroyAllWindows() # closes all the windows as soon as we press a key"
   ]
  },
  {
   "cell_type": "code",
   "execution_count": 6,
   "id": "d4a9a3b2-070f-4b54-8fc9-f4389fa6d3a3",
   "metadata": {},
   "outputs": [
    {
     "name": "stdout",
     "output_type": "stream",
     "text": [
      "image saved\n"
     ]
    }
   ],
   "source": [
    "# saving a image\n",
    "\n",
    "directory = 'C:/Users/prash/Computer_vision/Opencv'\n",
    "\n",
    "filename = 'savedimg.jpg'\n",
    "cv2.imwrite(filename,img)\n",
    "print('image saved')"
   ]
  },
  {
   "cell_type": "code",
   "execution_count": 7,
   "id": "89b66d70-761b-4259-ae9a-ebe6016f6f52",
   "metadata": {},
   "outputs": [
    {
     "name": "stdout",
     "output_type": "stream",
     "text": [
      "(1200, 1920, 3)\n"
     ]
    }
   ],
   "source": [
    "# image properties\n",
    "\n",
    "print(img.shape) # 3 is RGB color channels"
   ]
  },
  {
   "cell_type": "code",
   "execution_count": 2,
   "id": "eb951551-a535-4fe5-92c1-205bed51462a",
   "metadata": {},
   "outputs": [],
   "source": [
    "# changing color space\n",
    "# RGB2GRAY,GRAY2RGB etc\n",
    "\n",
    "gray = cv2.cvtColor(img,cv2.COLOR_BGR2GRAY)\n",
    "cv2.imshow('Original',img)\n",
    "cv2.imshow('Gray img',gray)\n",
    "\n",
    "cv2.waitKey(0)\n",
    "cv2.destroyAllWindows()"
   ]
  },
  {
   "cell_type": "code",
   "execution_count": 5,
   "id": "77ba0a5f-de15-41a7-8705-891fbf56516b",
   "metadata": {},
   "outputs": [],
   "source": [
    "# resize the image\n",
    "\n",
    "resize = cv2.resize(img,(800,600))\n",
    "cv2.imshow('Original',img)\n",
    "cv2.imshow('resized',resize)\n",
    "\n",
    "cv2.waitKey(0)\n",
    "cv2.destroyAllWindows()"
   ]
  },
  {
   "cell_type": "code",
   "execution_count": 7,
   "id": "dbdbbf26-551c-41f5-bbce-e15d3c7bf183",
   "metadata": {},
   "outputs": [],
   "source": [
    "# displaying text\n",
    "\n",
    "text = 'Vice-captian'\n",
    "coordinates = (100,500)\n",
    "font = cv2.FONT_HERSHEY_SIMPLEX\n",
    "font_scale = 4\n",
    "color = (255,0,0)\n",
    "thickness = 4\n",
    "\n",
    "image_0 = cv2.putText(img,text,coordinates,font,font_scale,color,thickness)\n",
    "cv2.imshow('original',image_0)\n",
    "cv2.waitKey(0)\n",
    "cv2.destroyAllWindows()"
   ]
  },
  {
   "cell_type": "code",
   "execution_count": 11,
   "id": "a585f017-1530-4ad1-af5e-7ea2c65ec8c4",
   "metadata": {},
   "outputs": [],
   "source": [
    "# drawing lines\n",
    "\n",
    "color = (255,0,255)\n",
    "thickness = 4\n",
    "start_point = (0,0)\n",
    "end_point = (100,100)\n",
    "\n",
    "image_1 = cv2.line(img,start_point,end_point,color,thickness)\n",
    "cv2.imshow('original',image_1)\n",
    "cv2.waitKey(0)\n",
    "cv2.destroyAllWindows()"
   ]
  },
  {
   "cell_type": "code",
   "execution_count": 13,
   "id": "0429d426-8295-4022-97f0-8783cd7f7aff",
   "metadata": {},
   "outputs": [],
   "source": [
    "# drawing a circle\n",
    "\n",
    "color = (255,0,255)\n",
    "thickness = 4\n",
    "center_coordinates = (200,200)\n",
    "radius = 20\n",
    "\n",
    "image_2 = cv2.circle(img,center_coordinates,radius,color,thickness)\n",
    "\n",
    "cv2.imshow('original',image_2)\n",
    "cv2.waitKey(0)\n",
    "cv2.destroyAllWindows()"
   ]
  },
  {
   "cell_type": "code",
   "execution_count": 15,
   "id": "7cab6966-82e0-4c7f-9d5d-480420b89ed5",
   "metadata": {},
   "outputs": [],
   "source": [
    "# drawing a rectangle\n",
    "\n",
    "color = (255,0,255)\n",
    "thickness = 4\n",
    "start_point = (0,0)\n",
    "end_point = (100,100) \n",
    "\n",
    "image_3 = cv2.rectangle(img,start_point,end_point,color,thickness)\n",
    "\n",
    "cv2.imshow('original',image_3)\n",
    "cv2.waitKey(0)\n",
    "cv2.destroyAllWindows()"
   ]
  },
  {
   "cell_type": "code",
   "execution_count": 17,
   "id": "390c3374-198e-4ed5-b5aa-33cfa3cbbcbc",
   "metadata": {},
   "outputs": [],
   "source": [
    "# drawing a ellipse\n",
    "\n",
    "color = (255,0,255)\n",
    "thickness = 4\n",
    "center_coordinates = (300,300)\n",
    "axes_length = (100,50)\n",
    "angle = 30\n",
    "start_angle = 0\n",
    "end_angle = 360\n",
    "\n",
    "image_4 = cv2.ellipse(img,center_coordinates,axes_length,angle,start_angle,\n",
    "                        end_angle,color,thickness)\n",
    "\n",
    "cv2.imshow('original',image_4)\n",
    "cv2.waitKey(0)\n",
    "cv2.destroyAllWindows()\n"
   ]
  },
  {
   "cell_type": "code",
   "execution_count": 2,
   "id": "7ff1daa2-322a-432c-ad2e-75ae9f2fc60d",
   "metadata": {},
   "outputs": [],
   "source": [
    "img = cv2.imread(img_path,0) # 0 -> for gray scale, 1 -> to convert back to color, -1 -> for RGB\n",
    "cv2.imshow('original',img)\n",
    "cv2.waitKey(0)\n",
    "cv2.destroyAllWindows()"
   ]
  },
  {
   "cell_type": "code",
   "execution_count": null,
   "id": "f8c5effd-7bf5-4d87-8e0d-82f54e9b090f",
   "metadata": {},
   "outputs": [],
   "source": []
  }
 ],
 "metadata": {
  "kernelspec": {
   "display_name": "Python 3 (ipykernel)",
   "language": "python",
   "name": "python3"
  },
  "language_info": {
   "codemirror_mode": {
    "name": "ipython",
    "version": 3
   },
   "file_extension": ".py",
   "mimetype": "text/x-python",
   "name": "python",
   "nbconvert_exporter": "python",
   "pygments_lexer": "ipython3",
   "version": "3.9.15"
  }
 },
 "nbformat": 4,
 "nbformat_minor": 5
}
